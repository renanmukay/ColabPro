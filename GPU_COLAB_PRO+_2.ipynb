{
  "nbformat": 4,
  "nbformat_minor": 0,
  "metadata": {
    "accelerator": "GPU",
    "colab": {
      "name": "GPU_COLAB_PRO+_2.ipynb",
      "provenance": [],
      "collapsed_sections": []
    },
    "kernelspec": {
      "display_name": "Python 3",
      "name": "python3"
    },
    "language_info": {
      "name": "python"
    }
  },
  "cells": [
    {
      "cell_type": "code",
      "metadata": {
        "id": "BSEP5i3ZF5fo"
      },
      "source": [
        "#@title **🚀🚀🚀 Modo PRO+ GPU 🚀🚀🚀** { display-mode: \"form\" }\n",
        "\n",
        "#@markdown - **MODELOS DE GPU**\n",
        "#@markdown - K80 💩\n",
        "#@markdown - P4 😕\n",
        "#@markdown - T4 😀\n",
        "#@markdown - P100 🥰\n",
        "#@markdown - V100 🚀\n",
        "\n",
        "\n",
        "gpu_info = ! nvidia-smi -L\n",
        "gpu_info = '\\n'.join(gpu_info)\n",
        "if gpu_info.find('Tesla V100...') >=0:\n",
        "  print(gpu_info)\n",
        "  exit()\n",
        "else :\n",
        "  print(gpu_info)\n",
        "\n",
        "from IPython.display import HTML\n",
        "from subprocess import getoutput\n",
        "s = getoutput('nvidia-smi -L')\n",
        "if 'K80' in s:\n",
        "  gpu = 'Conectado com VGA Tesla K80 💩'\n",
        "elif 'P4' in s:\n",
        "  gpu = 'Conectado com VGA Tesla P4 😕'\n",
        "elif 'T4' in s:\n",
        "  gpu = 'Conectado com VGA Tesla T4 😀'\n",
        "elif 'P100' in s:\n",
        "  gpu = 'Conectado com VGA Tesla P100 🥰'\n",
        "elif 'V100' in s:\n",
        "  gpu = 'Conectado com VGA Tesla V100 🚀'\n",
        "display(HTML(f\"<h1>{gpu}</h1>\"))\n",
        "\n",
        "Nome = \"PC02\" #@param {type:'string'}\n",
        "print(\"💻 Computador\", Nome ,\"Conectado\")\n",
        "!wget -qO- ifconfig.co/ip\n",
        "\n",
        "from psutil import virtual_memory\n",
        "ram_gb = virtual_memory().total / 1e9\n",
        "if ram_gb > 20:\n",
        "  print('⚠️ MEMÓRIA ALTA ATIVADA ⚠️')\n",
        "\n",
        "import time\n",
        "\n",
        "named_tuple = time.localtime()\n",
        "time_string = time.strftime(\"%d/%m/%Y às %H:%M:%S\", named_tuple)\n",
        "\n",
        "print(\"⏱ Iniciado em:\", time_string)\n",
        "\n",
        "import time\n",
        "Ativar = True #@param {type:'boolean'}\n",
        "!\n",
        "temps = 0\n",
        "sec = 3600\n",
        "while(temps < 2592000):\n",
        "  if(temps == sec):\n",
        "    sec += 3600\n",
        "    x = (temps/60)/60\n",
        "    print(\"⏳ Você está on-line a\",x,\"hora(s). Faltam\",24-x,\"Horas ⌛️\")\n",
        "  time.sleep(1)\n",
        "  temps += 1\n",
        "\n",
        "#@markdown ---\n",
        "\n",
        "#@markdown - ⚠️ **RAM ALTA ATIVADA** ⚠️\n",
        "\n",
        "#@markdown - Abra o Terminal 💻"
      ],
      "execution_count": null,
      "outputs": []
    }
  ]
}