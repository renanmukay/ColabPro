{
  "nbformat": 4,
  "nbformat_minor": 0,
  "metadata": {
    "colab": {
      "name": "TPU.Pro+_0.ipynb",
      "provenance": [],
      "collapsed_sections": []
    },
    "kernelspec": {
      "name": "python3",
      "display_name": "Python 3"
    },
    "language_info": {
      "name": "python"
    },
    "accelerator": "GPU"
  },
  "cells": [
    {
      "cell_type": "code",
      "metadata": {
        "id": "-mVNI_PPjB-a",
        "cellView": "form"
      },
      "source": [
        "#@title **Ativação das 24 Horas** \n",
        "  import time\n",
        "Ativar = True #@param {type:'boolean'}\n",
        "!\n",
        "temps = 0\n",
        "sec = 3600\n",
        "while(temps < 2592000):\n",
        "  if(temps == sec):\n",
        "    sec += 3600\n",
        "    x = (temps/60)/60\n",
        "    print(\"⏳ Ja se passou\",x,\"hora(s). Faltam\",24-x,\"Horas ⌛️\")\n",
        "  time.sleep(1)\n",
        "  temps += 1\n",
        "\n",
        "#@markdown ---\n",
        "\n",
        "#@markdown - Abra o Terminal 💻"
      ],
      "execution_count": null,
      "outputs": []
    }
  ]
}
