{
  "nbformat": 4,
  "nbformat_minor": 0,
  "metadata": {
    "colab": {
      "name": "MINERAR_TPU_Pro+_0.ipynb",
      "provenance": [],
      "collapsed_sections": [],
      "machine_shape": "hm"
    },
    "kernelspec": {
      "display_name": "Python 3",
      "name": "python3"
    },
    "accelerator": "TPU"
  },
  "cells": [
    {
      "cell_type": "markdown",
      "metadata": {
        "id": "LIWl-PkQrxlP"
      },
      "source": [
        "# **MINERAR COM A [TPU]**"
      ]
    },
    {
      "cell_type": "code",
      "metadata": {
        "id": "OzQQy0IH61fN",
        "cellView": "form"
      },
      "source": [
        "#@title **CHECAR A TPU**\n",
        "import os\n",
        "from tensorflow.python.profiler import profiler_client\n",
        "\n",
        "tpu_profile_service_address = os.environ['COLAB_TPU_ADDR'].replace('8470', '8466')\n",
        "print(profiler_client.monitor(tpu_profile_service_address, 100, 2))"
      ],
      "execution_count": null,
      "outputs": []
    },
    {
      "cell_type": "code",
      "metadata": {
        "id": "IULlsXl-_41c",
        "cellView": "form"
      },
      "source": [
        "#@title Experimental Worker\n",
        "import tensorflow as tf\n",
        "try:\n",
        "  resolver = tf.distribute.cluster_resolver.TPUClusterResolver()\n",
        "  tf.config.experimental_connect_to_cluster(resolver)\n",
        "  tf.tpu.experimental.initialize_tpu_system(resolver)\n",
        "  print(\"All devices: \", tf.config.list_logical_devices('TPU'))\n",
        "  strategy = tf.distribute.experimental.TPUStrategy(resolver)\n",
        "except ValueError:\n",
        "  strategy = tf.distribute.get_strategy() "
      ],
      "execution_count": null,
      "outputs": []
    },
    {
      "cell_type": "markdown",
      "metadata": {
        "id": "C5jGvbUYKgI9"
      },
      "source": [
        "\\"
      ]
    },
    {
      "cell_type": "code",
      "metadata": {
        "id": "ziNvcSMvn7Et"
      },
      "source": [
        "#@title **Ativação das 24 Horas** { display-mode: \"form\" }\n",
        "\n",
        "import time\n",
        "\n",
        "named_tuple = time.localtime() # get struct_time\n",
        "time_string = time.strftime(\"%d/%m/%Y às %H:%M:%S\", named_tuple)\n",
        "\n",
        "print(\"Iniciado em:\", time_string)\n",
        "\n",
        "import time\n",
        "Ativar = True #@param {type:'boolean'}\n",
        "!\n",
        "temps = 0\n",
        "sec = 3600\n",
        "while(temps < 2592000):\n",
        "  if(temps == sec):\n",
        "    sec += 3600\n",
        "    x = (temps/60)/60\n",
        "    print(\"Você está minerando a \",x,\" hora(s)\")\n",
        "  time.sleep(1)\n",
        "  temps += 1"
      ],
      "execution_count": null,
      "outputs": []
    },
    {
      "cell_type": "markdown",
      "metadata": {
        "id": "aEv3yUs-KfC4"
      },
      "source": [
        "**CÓDIGO DE INATIVIDADE**\n",
        "\n",
        "\n",
        "var startClickConnect = function startClickConnect(){ var clickConnect = function clickConnect(){ console.log(\"Connnect Clicked - Start\"); document.querySelector(\"#top-toolbar > colab-connect-button\").shadowRoot.querySelector(\"#connect\").click(); console.log(\"Connnect Clicked - End\"); }; var intervalId = setInterval(clickConnect, 60000); var stopClickConnectHandler = function stopClickConnect() { console.log(\"Connnect Clicked Stopped - Start\"); clearInterval(intervalId); console.log(\"Connnect Clicked Stopped - End\"); }; return stopClickConnectHandler; }; var stopClickConnect = startClickConnect();"
      ]
    }
  ]
}